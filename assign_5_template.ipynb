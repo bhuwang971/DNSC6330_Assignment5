{
  "cells": [
    {
      "cell_type": "markdown",
      "id": "1934d2de",
      "metadata": {
        "id": "1934d2de"
      },
      "source": [
        "## License\n",
        "\n",
        "Copyright 2021 - 2025 Patrick Hall (jphall@gwu.edu), Bhuwan Gupta (bhuwang@gwu.edu)\n",
        "\n",
        "Licensed under the Apache License, Version 2.0 (the \"License\");\n",
        "you may not use this file except in compliance with the License.\n",
        "You may obtain a copy of the License at\n",
        "\n",
        "    http://www.apache.org/licenses/LICENSE-2.0\n",
        "\n",
        "Unless required by applicable law or agreed to in writing, software\n",
        "distributed under the License is distributed on an \"AS IS\" BASIS,\n",
        "WITHOUT WARRANTIES OR CONDITIONS OF ANY KIND, either express or implied.\n",
        "See the License for the specific language governing permissions and\n",
        "limitations under the License.\n",
        "\n",
        "*DISCLAIMER*: This notebook is not legal or compliance advice."
      ]
    },
    {
      "cell_type": "markdown",
      "id": "0Hx4bUj_XGjF",
      "metadata": {
        "id": "0Hx4bUj_XGjF"
      },
      "source": [
        "#### DNSC 6330 - Responsible Machine Learning\n",
        "Assignment 5\n",
        "\n",
        "Submission by: Bhuwan Gupta (Group 7)"
      ]
    },
    {
      "cell_type": "markdown",
      "id": "c7556803",
      "metadata": {
        "id": "c7556803"
      },
      "source": [
        "# Assignment 5 Template"
      ]
    },
    {
      "cell_type": "markdown",
      "id": "wb82UweSXvaE",
      "metadata": {
        "id": "wb82UweSXvaE"
      },
      "source": [
        "#### Install required libraries"
      ]
    },
    {
      "cell_type": "code",
      "execution_count": null,
      "id": "2rcTajn9Xsen",
      "metadata": {
        "colab": {
          "base_uri": "https://localhost:8080/"
        },
        "id": "2rcTajn9Xsen",
        "outputId": "3dd467b0-c7c8-4501-d955-390ca81e6579"
      },
      "outputs": [
        {
          "name": "stdout",
          "output_type": "stream",
          "text": [
            "Collecting interpret\n",
            "  Downloading interpret-0.6.10-py3-none-any.whl.metadata (1.2 kB)\n",
            "Collecting interpret-core==0.6.10 (from interpret-core[aplr,dash,debug,linear,notebook,plotly,sensitivity,shap]==0.6.10->interpret)\n",
            "  Downloading interpret_core-0.6.10-py3-none-any.whl.metadata (2.9 kB)\n",
            "Requirement already satisfied: numpy>=1.25 in /usr/local/lib/python3.11/dist-packages (from interpret-core==0.6.10->interpret-core[aplr,dash,debug,linear,notebook,plotly,sensitivity,shap]==0.6.10->interpret) (2.0.2)\n",
            "Requirement already satisfied: pandas>=0.19.2 in /usr/local/lib/python3.11/dist-packages (from interpret-core==0.6.10->interpret-core[aplr,dash,debug,linear,notebook,plotly,sensitivity,shap]==0.6.10->interpret) (2.2.2)\n",
            "Requirement already satisfied: scikit-learn>=0.18.1 in /usr/local/lib/python3.11/dist-packages (from interpret-core==0.6.10->interpret-core[aplr,dash,debug,linear,notebook,plotly,sensitivity,shap]==0.6.10->interpret) (1.6.1)\n",
            "Requirement already satisfied: joblib>=0.11 in /usr/local/lib/python3.11/dist-packages (from interpret-core==0.6.10->interpret-core[aplr,dash,debug,linear,notebook,plotly,sensitivity,shap]==0.6.10->interpret) (1.4.2)\n",
            "Requirement already satisfied: psutil>=5.6.2 in /usr/local/lib/python3.11/dist-packages (from interpret-core[aplr,dash,debug,linear,notebook,plotly,sensitivity,shap]==0.6.10->interpret) (5.9.5)\n",
            "Requirement already satisfied: ipykernel>=4.10.0 in /usr/local/lib/python3.11/dist-packages (from interpret-core[aplr,dash,debug,linear,notebook,plotly,sensitivity,shap]==0.6.10->interpret) (6.17.1)\n",
            "Requirement already satisfied: ipython>=5.5.0 in /usr/local/lib/python3.11/dist-packages (from interpret-core[aplr,dash,debug,linear,notebook,plotly,sensitivity,shap]==0.6.10->interpret) (7.34.0)\n",
            "Requirement already satisfied: plotly>=3.8.1 in /usr/local/lib/python3.11/dist-packages (from interpret-core[aplr,dash,debug,linear,notebook,plotly,sensitivity,shap]==0.6.10->interpret) (5.24.1)\n",
            "Collecting SALib>=1.3.3 (from interpret-core[aplr,dash,debug,linear,notebook,plotly,sensitivity,shap]==0.6.10->interpret)\n",
            "  Downloading salib-1.5.1-py3-none-any.whl.metadata (11 kB)\n",
            "Requirement already satisfied: shap>=0.28.5 in /usr/local/lib/python3.11/dist-packages (from interpret-core[aplr,dash,debug,linear,notebook,plotly,sensitivity,shap]==0.6.10->interpret) (0.47.1)\n",
            "Collecting dill>=0.2.5 (from interpret-core[aplr,dash,debug,linear,notebook,plotly,sensitivity,shap]==0.6.10->interpret)\n",
            "  Downloading dill-0.4.0-py3-none-any.whl.metadata (10 kB)\n",
            "Collecting aplr>=10.6.1 (from interpret-core[aplr,dash,debug,linear,notebook,plotly,sensitivity,shap]==0.6.10->interpret)\n",
            "  Downloading aplr-10.9.0-cp311-cp311-manylinux_2_17_x86_64.manylinux2014_x86_64.whl.metadata (2.4 kB)\n",
            "Collecting dash<3.0.0,>=1.0.0 (from interpret-core[aplr,dash,debug,linear,notebook,plotly,sensitivity,shap]==0.6.10->interpret)\n",
            "  Downloading dash-2.18.2-py3-none-any.whl.metadata (10 kB)\n",
            "Collecting dash-core-components>=1.0.0 (from interpret-core[aplr,dash,debug,linear,notebook,plotly,sensitivity,shap]==0.6.10->interpret)\n",
            "  Downloading dash_core_components-2.0.0-py3-none-any.whl.metadata (2.9 kB)\n",
            "Collecting dash-html-components>=1.0.0 (from interpret-core[aplr,dash,debug,linear,notebook,plotly,sensitivity,shap]==0.6.10->interpret)\n",
            "  Downloading dash_html_components-2.0.0-py3-none-any.whl.metadata (3.8 kB)\n",
            "Collecting dash-table>=4.1.0 (from interpret-core[aplr,dash,debug,linear,notebook,plotly,sensitivity,shap]==0.6.10->interpret)\n",
            "  Downloading dash_table-5.0.0-py3-none-any.whl.metadata (2.4 kB)\n",
            "Collecting dash-cytoscape>=0.1.1 (from interpret-core[aplr,dash,debug,linear,notebook,plotly,sensitivity,shap]==0.6.10->interpret)\n",
            "  Downloading dash_cytoscape-1.0.2.tar.gz (4.0 MB)\n",
            "\u001b[2K     \u001b[90m━━━━━━━━━━━━━━━━━━━━━━━━━━━━━━━━━━━━━━━━\u001b[0m \u001b[32m4.0/4.0 MB\u001b[0m \u001b[31m56.0 MB/s\u001b[0m eta \u001b[36m0:00:00\u001b[0m\n",
            "\u001b[?25h  Preparing metadata (setup.py) ... \u001b[?25l\u001b[?25hdone\n",
            "Collecting gevent>=1.3.6 (from interpret-core[aplr,dash,debug,linear,notebook,plotly,sensitivity,shap]==0.6.10->interpret)\n",
            "  Downloading gevent-25.4.1-cp311-cp311-manylinux_2_17_x86_64.manylinux2014_x86_64.whl.metadata (13 kB)\n",
            "Requirement already satisfied: requests>=2.19.0 in /usr/local/lib/python3.11/dist-packages (from interpret-core[aplr,dash,debug,linear,notebook,plotly,sensitivity,shap]==0.6.10->interpret) (2.32.3)\n",
            "Collecting Flask<3.1,>=1.0.4 (from dash<3.0.0,>=1.0.0->interpret-core[aplr,dash,debug,linear,notebook,plotly,sensitivity,shap]==0.6.10->interpret)\n",
            "  Downloading flask-3.0.3-py3-none-any.whl.metadata (3.2 kB)\n",
            "Collecting Werkzeug<3.1 (from dash<3.0.0,>=1.0.0->interpret-core[aplr,dash,debug,linear,notebook,plotly,sensitivity,shap]==0.6.10->interpret)\n",
            "  Downloading werkzeug-3.0.6-py3-none-any.whl.metadata (3.7 kB)\n",
            "Requirement already satisfied: importlib-metadata in /usr/local/lib/python3.11/dist-packages (from dash<3.0.0,>=1.0.0->interpret-core[aplr,dash,debug,linear,notebook,plotly,sensitivity,shap]==0.6.10->interpret) (8.6.1)\n",
            "Requirement already satisfied: typing-extensions>=4.1.1 in /usr/local/lib/python3.11/dist-packages (from dash<3.0.0,>=1.0.0->interpret-core[aplr,dash,debug,linear,notebook,plotly,sensitivity,shap]==0.6.10->interpret) (4.13.2)\n",
            "Collecting retrying (from dash<3.0.0,>=1.0.0->interpret-core[aplr,dash,debug,linear,notebook,plotly,sensitivity,shap]==0.6.10->interpret)\n",
            "  Downloading retrying-1.3.4-py3-none-any.whl.metadata (6.9 kB)\n",
            "Requirement already satisfied: nest-asyncio in /usr/local/lib/python3.11/dist-packages (from dash<3.0.0,>=1.0.0->interpret-core[aplr,dash,debug,linear,notebook,plotly,sensitivity,shap]==0.6.10->interpret) (1.6.0)\n",
            "Requirement already satisfied: setuptools in /usr/local/lib/python3.11/dist-packages (from dash<3.0.0,>=1.0.0->interpret-core[aplr,dash,debug,linear,notebook,plotly,sensitivity,shap]==0.6.10->interpret) (75.2.0)\n",
            "Requirement already satisfied: greenlet>=3.2.0 in /usr/local/lib/python3.11/dist-packages (from gevent>=1.3.6->interpret-core[aplr,dash,debug,linear,notebook,plotly,sensitivity,shap]==0.6.10->interpret) (3.2.0)\n",
            "Collecting zope.event (from gevent>=1.3.6->interpret-core[aplr,dash,debug,linear,notebook,plotly,sensitivity,shap]==0.6.10->interpret)\n",
            "  Downloading zope.event-5.0-py3-none-any.whl.metadata (4.4 kB)\n",
            "Collecting zope.interface (from gevent>=1.3.6->interpret-core[aplr,dash,debug,linear,notebook,plotly,sensitivity,shap]==0.6.10->interpret)\n",
            "  Downloading zope.interface-7.2-cp311-cp311-manylinux_2_5_x86_64.manylinux1_x86_64.manylinux_2_17_x86_64.manylinux2014_x86_64.whl.metadata (44 kB)\n",
            "\u001b[2K     \u001b[90m━━━━━━━━━━━━━━━━━━━━━━━━━━━━━━━━━━━━━━━━\u001b[0m \u001b[32m44.4/44.4 kB\u001b[0m \u001b[31m2.2 MB/s\u001b[0m eta \u001b[36m0:00:00\u001b[0m\n",
            "\u001b[?25hRequirement already satisfied: debugpy>=1.0 in /usr/local/lib/python3.11/dist-packages (from ipykernel>=4.10.0->interpret-core[aplr,dash,debug,linear,notebook,plotly,sensitivity,shap]==0.6.10->interpret) (1.8.0)\n",
            "Requirement already satisfied: jupyter-client>=6.1.12 in /usr/local/lib/python3.11/dist-packages (from ipykernel>=4.10.0->interpret-core[aplr,dash,debug,linear,notebook,plotly,sensitivity,shap]==0.6.10->interpret) (6.1.12)\n",
            "Requirement already satisfied: matplotlib-inline>=0.1 in /usr/local/lib/python3.11/dist-packages (from ipykernel>=4.10.0->interpret-core[aplr,dash,debug,linear,notebook,plotly,sensitivity,shap]==0.6.10->interpret) (0.1.7)\n",
            "Requirement already satisfied: packaging in /usr/local/lib/python3.11/dist-packages (from ipykernel>=4.10.0->interpret-core[aplr,dash,debug,linear,notebook,plotly,sensitivity,shap]==0.6.10->interpret) (24.2)\n",
            "Requirement already satisfied: pyzmq>=17 in /usr/local/lib/python3.11/dist-packages (from ipykernel>=4.10.0->interpret-core[aplr,dash,debug,linear,notebook,plotly,sensitivity,shap]==0.6.10->interpret) (24.0.1)\n",
            "Requirement already satisfied: tornado>=6.1 in /usr/local/lib/python3.11/dist-packages (from ipykernel>=4.10.0->interpret-core[aplr,dash,debug,linear,notebook,plotly,sensitivity,shap]==0.6.10->interpret) (6.4.2)\n",
            "Requirement already satisfied: traitlets>=5.1.0 in /usr/local/lib/python3.11/dist-packages (from ipykernel>=4.10.0->interpret-core[aplr,dash,debug,linear,notebook,plotly,sensitivity,shap]==0.6.10->interpret) (5.7.1)\n",
            "Collecting jedi>=0.16 (from ipython>=5.5.0->interpret-core[aplr,dash,debug,linear,notebook,plotly,sensitivity,shap]==0.6.10->interpret)\n",
            "  Downloading jedi-0.19.2-py2.py3-none-any.whl.metadata (22 kB)\n",
            "Requirement already satisfied: decorator in /usr/local/lib/python3.11/dist-packages (from ipython>=5.5.0->interpret-core[aplr,dash,debug,linear,notebook,plotly,sensitivity,shap]==0.6.10->interpret) (4.4.2)\n",
            "Requirement already satisfied: pickleshare in /usr/local/lib/python3.11/dist-packages (from ipython>=5.5.0->interpret-core[aplr,dash,debug,linear,notebook,plotly,sensitivity,shap]==0.6.10->interpret) (0.7.5)\n",
            "Requirement already satisfied: prompt-toolkit!=3.0.0,!=3.0.1,<3.1.0,>=2.0.0 in /usr/local/lib/python3.11/dist-packages (from ipython>=5.5.0->interpret-core[aplr,dash,debug,linear,notebook,plotly,sensitivity,shap]==0.6.10->interpret) (3.0.51)\n",
            "Requirement already satisfied: pygments in /usr/local/lib/python3.11/dist-packages (from ipython>=5.5.0->interpret-core[aplr,dash,debug,linear,notebook,plotly,sensitivity,shap]==0.6.10->interpret) (2.18.0)\n",
            "Requirement already satisfied: backcall in /usr/local/lib/python3.11/dist-packages (from ipython>=5.5.0->interpret-core[aplr,dash,debug,linear,notebook,plotly,sensitivity,shap]==0.6.10->interpret) (0.2.0)\n",
            "Requirement already satisfied: pexpect>4.3 in /usr/local/lib/python3.11/dist-packages (from ipython>=5.5.0->interpret-core[aplr,dash,debug,linear,notebook,plotly,sensitivity,shap]==0.6.10->interpret) (4.9.0)\n",
            "Requirement already satisfied: python-dateutil>=2.8.2 in /usr/local/lib/python3.11/dist-packages (from pandas>=0.19.2->interpret-core==0.6.10->interpret-core[aplr,dash,debug,linear,notebook,plotly,sensitivity,shap]==0.6.10->interpret) (2.8.2)\n",
            "Requirement already satisfied: pytz>=2020.1 in /usr/local/lib/python3.11/dist-packages (from pandas>=0.19.2->interpret-core==0.6.10->interpret-core[aplr,dash,debug,linear,notebook,plotly,sensitivity,shap]==0.6.10->interpret) (2025.2)\n",
            "Requirement already satisfied: tzdata>=2022.7 in /usr/local/lib/python3.11/dist-packages (from pandas>=0.19.2->interpret-core==0.6.10->interpret-core[aplr,dash,debug,linear,notebook,plotly,sensitivity,shap]==0.6.10->interpret) (2025.2)\n",
            "Requirement already satisfied: tenacity>=6.2.0 in /usr/local/lib/python3.11/dist-packages (from plotly>=3.8.1->interpret-core[aplr,dash,debug,linear,notebook,plotly,sensitivity,shap]==0.6.10->interpret) (9.1.2)\n",
            "Requirement already satisfied: charset-normalizer<4,>=2 in /usr/local/lib/python3.11/dist-packages (from requests>=2.19.0->interpret-core[aplr,dash,debug,linear,notebook,plotly,sensitivity,shap]==0.6.10->interpret) (3.4.1)\n",
            "Requirement already satisfied: idna<4,>=2.5 in /usr/local/lib/python3.11/dist-packages (from requests>=2.19.0->interpret-core[aplr,dash,debug,linear,notebook,plotly,sensitivity,shap]==0.6.10->interpret) (3.10)\n",
            "Requirement already satisfied: urllib3<3,>=1.21.1 in /usr/local/lib/python3.11/dist-packages (from requests>=2.19.0->interpret-core[aplr,dash,debug,linear,notebook,plotly,sensitivity,shap]==0.6.10->interpret) (2.3.0)\n",
            "Requirement already satisfied: certifi>=2017.4.17 in /usr/local/lib/python3.11/dist-packages (from requests>=2.19.0->interpret-core[aplr,dash,debug,linear,notebook,plotly,sensitivity,shap]==0.6.10->interpret) (2025.1.31)\n",
            "Requirement already satisfied: matplotlib>=3.5 in /usr/local/lib/python3.11/dist-packages (from SALib>=1.3.3->interpret-core[aplr,dash,debug,linear,notebook,plotly,sensitivity,shap]==0.6.10->interpret) (3.10.0)\n",
            "Collecting multiprocess (from SALib>=1.3.3->interpret-core[aplr,dash,debug,linear,notebook,plotly,sensitivity,shap]==0.6.10->interpret)\n",
            "  Downloading multiprocess-0.70.18-py311-none-any.whl.metadata (7.5 kB)\n",
            "Requirement already satisfied: scipy>=1.9.3 in /usr/local/lib/python3.11/dist-packages (from SALib>=1.3.3->interpret-core[aplr,dash,debug,linear,notebook,plotly,sensitivity,shap]==0.6.10->interpret) (1.14.1)\n",
            "Requirement already satisfied: threadpoolctl>=3.1.0 in /usr/local/lib/python3.11/dist-packages (from scikit-learn>=0.18.1->interpret-core==0.6.10->interpret-core[aplr,dash,debug,linear,notebook,plotly,sensitivity,shap]==0.6.10->interpret) (3.6.0)\n",
            "Requirement already satisfied: tqdm>=4.27.0 in /usr/local/lib/python3.11/dist-packages (from shap>=0.28.5->interpret-core[aplr,dash,debug,linear,notebook,plotly,sensitivity,shap]==0.6.10->interpret) (4.67.1)\n",
            "Requirement already satisfied: slicer==0.0.8 in /usr/local/lib/python3.11/dist-packages (from shap>=0.28.5->interpret-core[aplr,dash,debug,linear,notebook,plotly,sensitivity,shap]==0.6.10->interpret) (0.0.8)\n",
            "Requirement already satisfied: numba>=0.54 in /usr/local/lib/python3.11/dist-packages (from shap>=0.28.5->interpret-core[aplr,dash,debug,linear,notebook,plotly,sensitivity,shap]==0.6.10->interpret) (0.60.0)\n",
            "Requirement already satisfied: cloudpickle in /usr/local/lib/python3.11/dist-packages (from shap>=0.28.5->interpret-core[aplr,dash,debug,linear,notebook,plotly,sensitivity,shap]==0.6.10->interpret) (3.1.1)\n",
            "Requirement already satisfied: Jinja2>=3.1.2 in /usr/local/lib/python3.11/dist-packages (from Flask<3.1,>=1.0.4->dash<3.0.0,>=1.0.0->interpret-core[aplr,dash,debug,linear,notebook,plotly,sensitivity,shap]==0.6.10->interpret) (3.1.6)\n",
            "Requirement already satisfied: itsdangerous>=2.1.2 in /usr/local/lib/python3.11/dist-packages (from Flask<3.1,>=1.0.4->dash<3.0.0,>=1.0.0->interpret-core[aplr,dash,debug,linear,notebook,plotly,sensitivity,shap]==0.6.10->interpret) (2.2.0)\n",
            "Requirement already satisfied: click>=8.1.3 in /usr/local/lib/python3.11/dist-packages (from Flask<3.1,>=1.0.4->dash<3.0.0,>=1.0.0->interpret-core[aplr,dash,debug,linear,notebook,plotly,sensitivity,shap]==0.6.10->interpret) (8.1.8)\n",
            "Requirement already satisfied: blinker>=1.6.2 in /usr/local/lib/python3.11/dist-packages (from Flask<3.1,>=1.0.4->dash<3.0.0,>=1.0.0->interpret-core[aplr,dash,debug,linear,notebook,plotly,sensitivity,shap]==0.6.10->interpret) (1.9.0)\n",
            "Requirement already satisfied: parso<0.9.0,>=0.8.4 in /usr/local/lib/python3.11/dist-packages (from jedi>=0.16->ipython>=5.5.0->interpret-core[aplr,dash,debug,linear,notebook,plotly,sensitivity,shap]==0.6.10->interpret) (0.8.4)\n",
            "Requirement already satisfied: jupyter-core>=4.6.0 in /usr/local/lib/python3.11/dist-packages (from jupyter-client>=6.1.12->ipykernel>=4.10.0->interpret-core[aplr,dash,debug,linear,notebook,plotly,sensitivity,shap]==0.6.10->interpret) (5.7.2)\n",
            "Requirement already satisfied: contourpy>=1.0.1 in /usr/local/lib/python3.11/dist-packages (from matplotlib>=3.5->SALib>=1.3.3->interpret-core[aplr,dash,debug,linear,notebook,plotly,sensitivity,shap]==0.6.10->interpret) (1.3.2)\n",
            "Requirement already satisfied: cycler>=0.10 in /usr/local/lib/python3.11/dist-packages (from matplotlib>=3.5->SALib>=1.3.3->interpret-core[aplr,dash,debug,linear,notebook,plotly,sensitivity,shap]==0.6.10->interpret) (0.12.1)\n",
            "Requirement already satisfied: fonttools>=4.22.0 in /usr/local/lib/python3.11/dist-packages (from matplotlib>=3.5->SALib>=1.3.3->interpret-core[aplr,dash,debug,linear,notebook,plotly,sensitivity,shap]==0.6.10->interpret) (4.57.0)\n",
            "Requirement already satisfied: kiwisolver>=1.3.1 in /usr/local/lib/python3.11/dist-packages (from matplotlib>=3.5->SALib>=1.3.3->interpret-core[aplr,dash,debug,linear,notebook,plotly,sensitivity,shap]==0.6.10->interpret) (1.4.8)\n",
            "Requirement already satisfied: pillow>=8 in /usr/local/lib/python3.11/dist-packages (from matplotlib>=3.5->SALib>=1.3.3->interpret-core[aplr,dash,debug,linear,notebook,plotly,sensitivity,shap]==0.6.10->interpret) (11.1.0)\n",
            "Requirement already satisfied: pyparsing>=2.3.1 in /usr/local/lib/python3.11/dist-packages (from matplotlib>=3.5->SALib>=1.3.3->interpret-core[aplr,dash,debug,linear,notebook,plotly,sensitivity,shap]==0.6.10->interpret) (3.2.3)\n",
            "Requirement already satisfied: llvmlite<0.44,>=0.43.0dev0 in /usr/local/lib/python3.11/dist-packages (from numba>=0.54->shap>=0.28.5->interpret-core[aplr,dash,debug,linear,notebook,plotly,sensitivity,shap]==0.6.10->interpret) (0.43.0)\n",
            "Requirement already satisfied: ptyprocess>=0.5 in /usr/local/lib/python3.11/dist-packages (from pexpect>4.3->ipython>=5.5.0->interpret-core[aplr,dash,debug,linear,notebook,plotly,sensitivity,shap]==0.6.10->interpret) (0.7.0)\n",
            "Requirement already satisfied: wcwidth in /usr/local/lib/python3.11/dist-packages (from prompt-toolkit!=3.0.0,!=3.0.1,<3.1.0,>=2.0.0->ipython>=5.5.0->interpret-core[aplr,dash,debug,linear,notebook,plotly,sensitivity,shap]==0.6.10->interpret) (0.2.13)\n",
            "Requirement already satisfied: six>=1.5 in /usr/local/lib/python3.11/dist-packages (from python-dateutil>=2.8.2->pandas>=0.19.2->interpret-core==0.6.10->interpret-core[aplr,dash,debug,linear,notebook,plotly,sensitivity,shap]==0.6.10->interpret) (1.17.0)\n",
            "Requirement already satisfied: MarkupSafe>=2.1.1 in /usr/local/lib/python3.11/dist-packages (from Werkzeug<3.1->dash<3.0.0,>=1.0.0->interpret-core[aplr,dash,debug,linear,notebook,plotly,sensitivity,shap]==0.6.10->interpret) (3.0.2)\n",
            "Requirement already satisfied: zipp>=3.20 in /usr/local/lib/python3.11/dist-packages (from importlib-metadata->dash<3.0.0,>=1.0.0->interpret-core[aplr,dash,debug,linear,notebook,plotly,sensitivity,shap]==0.6.10->interpret) (3.21.0)\n",
            "Requirement already satisfied: platformdirs>=2.5 in /usr/local/lib/python3.11/dist-packages (from jupyter-core>=4.6.0->jupyter-client>=6.1.12->ipykernel>=4.10.0->interpret-core[aplr,dash,debug,linear,notebook,plotly,sensitivity,shap]==0.6.10->interpret) (4.3.7)\n",
            "Downloading interpret-0.6.10-py3-none-any.whl (1.4 kB)\n",
            "Downloading interpret_core-0.6.10-py3-none-any.whl (16.6 MB)\n",
            "\u001b[2K   \u001b[90m━━━━━━━━━━━━━━━━━━━━━━━━━━━━━━━━━━━━━━━━\u001b[0m \u001b[32m16.6/16.6 MB\u001b[0m \u001b[31m63.5 MB/s\u001b[0m eta \u001b[36m0:00:00\u001b[0m\n",
            "\u001b[?25hDownloading aplr-10.9.0-cp311-cp311-manylinux_2_17_x86_64.manylinux2014_x86_64.whl (6.7 MB)\n",
            "\u001b[2K   \u001b[90m━━━━━━━━━━━━━━━━━━━━━━━━━━━━━━━━━━━━━━━━\u001b[0m \u001b[32m6.7/6.7 MB\u001b[0m \u001b[31m88.1 MB/s\u001b[0m eta \u001b[36m0:00:00\u001b[0m\n",
            "\u001b[?25hDownloading dash-2.18.2-py3-none-any.whl (7.8 MB)\n",
            "\u001b[2K   \u001b[90m━━━━━━━━━━━━━━━━━━━━━━━━━━━━━━━━━━━━━━━━\u001b[0m \u001b[32m7.8/7.8 MB\u001b[0m \u001b[31m79.8 MB/s\u001b[0m eta \u001b[36m0:00:00\u001b[0m\n",
            "\u001b[?25hDownloading dash_core_components-2.0.0-py3-none-any.whl (3.8 kB)\n",
            "Downloading dash_html_components-2.0.0-py3-none-any.whl (4.1 kB)\n",
            "Downloading dash_table-5.0.0-py3-none-any.whl (3.9 kB)\n",
            "Downloading dill-0.4.0-py3-none-any.whl (119 kB)\n",
            "\u001b[2K   \u001b[90m━━━━━━━━━━━━━━━━━━━━━━━━━━━━━━━━━━━━━━━━\u001b[0m \u001b[32m119.7/119.7 kB\u001b[0m \u001b[31m9.6 MB/s\u001b[0m eta \u001b[36m0:00:00\u001b[0m\n",
            "\u001b[?25hDownloading gevent-25.4.1-cp311-cp311-manylinux_2_17_x86_64.manylinux2014_x86_64.whl (2.1 MB)\n",
            "\u001b[2K   \u001b[90m━━━━━━━━━━━━━━━━━━━━━━━━━━━━━━━━━━━━━━━━\u001b[0m \u001b[32m2.1/2.1 MB\u001b[0m \u001b[31m58.0 MB/s\u001b[0m eta \u001b[36m0:00:00\u001b[0m\n",
            "\u001b[?25hDownloading salib-1.5.1-py3-none-any.whl (778 kB)\n",
            "\u001b[2K   \u001b[90m━━━━━━━━━━━━━━━━━━━━━━━━━━━━━━━━━━━━━━━━\u001b[0m \u001b[32m778.9/778.9 kB\u001b[0m \u001b[31m44.6 MB/s\u001b[0m eta \u001b[36m0:00:00\u001b[0m\n",
            "\u001b[?25hDownloading flask-3.0.3-py3-none-any.whl (101 kB)\n",
            "\u001b[2K   \u001b[90m━━━━━━━━━━━━━━━━━━━━━━━━━━━━━━━━━━━━━━━━\u001b[0m \u001b[32m101.7/101.7 kB\u001b[0m \u001b[31m8.2 MB/s\u001b[0m eta \u001b[36m0:00:00\u001b[0m\n",
            "\u001b[?25hDownloading jedi-0.19.2-py2.py3-none-any.whl (1.6 MB)\n",
            "\u001b[2K   \u001b[90m━━━━━━━━━━━━━━━━━━━━━━━━━━━━━━━━━━━━━━━━\u001b[0m \u001b[32m1.6/1.6 MB\u001b[0m \u001b[31m53.4 MB/s\u001b[0m eta \u001b[36m0:00:00\u001b[0m\n",
            "\u001b[?25hDownloading werkzeug-3.0.6-py3-none-any.whl (227 kB)\n",
            "\u001b[2K   \u001b[90m━━━━━━━━━━━━━━━━━━━━━━━━━━━━━━━━━━━━━━━━\u001b[0m \u001b[32m228.0/228.0 kB\u001b[0m \u001b[31m18.4 MB/s\u001b[0m eta \u001b[36m0:00:00\u001b[0m\n",
            "\u001b[?25hDownloading multiprocess-0.70.18-py311-none-any.whl (144 kB)\n",
            "\u001b[2K   \u001b[90m━━━━━━━━━━━━━━━━━━━━━━━━━━━━━━━━━━━━━━━━\u001b[0m \u001b[32m144.5/144.5 kB\u001b[0m \u001b[31m10.5 MB/s\u001b[0m eta \u001b[36m0:00:00\u001b[0m\n",
            "\u001b[?25hDownloading retrying-1.3.4-py3-none-any.whl (11 kB)\n",
            "Downloading zope.event-5.0-py3-none-any.whl (6.8 kB)\n",
            "Downloading zope.interface-7.2-cp311-cp311-manylinux_2_5_x86_64.manylinux1_x86_64.manylinux_2_17_x86_64.manylinux2014_x86_64.whl (259 kB)\n",
            "\u001b[2K   \u001b[90m━━━━━━━━━━━━━━━━━━━━━━━━━━━━━━━━━━━━━━━━\u001b[0m \u001b[32m259.8/259.8 kB\u001b[0m \u001b[31m19.9 MB/s\u001b[0m eta \u001b[36m0:00:00\u001b[0m\n",
            "\u001b[?25hBuilding wheels for collected packages: dash-cytoscape\n",
            "  Building wheel for dash-cytoscape (setup.py) ... \u001b[?25l\u001b[?25hdone\n",
            "  Created wheel for dash-cytoscape: filename=dash_cytoscape-1.0.2-py3-none-any.whl size=4010717 sha256=c814c281b8d3d82580a28af5f7cad534302df64c8258e8babb608ec2704dbe8f\n",
            "  Stored in directory: /root/.cache/pip/wheels/99/b1/ab/6c999ab288b4849d372e23c0a8f6ece7edb7ffeb8c97959ab0\n",
            "Successfully built dash-cytoscape\n",
            "Installing collected packages: dash-table, dash-html-components, dash-core-components, zope.interface, zope.event, Werkzeug, retrying, jedi, dill, aplr, multiprocess, gevent, Flask, SALib, interpret-core, dash, dash-cytoscape, interpret\n",
            "  Attempting uninstall: Werkzeug\n",
            "    Found existing installation: Werkzeug 3.1.3\n",
            "    Uninstalling Werkzeug-3.1.3:\n",
            "      Successfully uninstalled Werkzeug-3.1.3\n",
            "  Attempting uninstall: Flask\n",
            "    Found existing installation: Flask 3.1.0\n",
            "    Uninstalling Flask-3.1.0:\n",
            "      Successfully uninstalled Flask-3.1.0\n",
            "Successfully installed Flask-3.0.3 SALib-1.5.1 Werkzeug-3.0.6 aplr-10.9.0 dash-2.18.2 dash-core-components-2.0.0 dash-cytoscape-1.0.2 dash-html-components-2.0.0 dash-table-5.0.0 dill-0.4.0 gevent-25.4.1 interpret-0.6.10 interpret-core-0.6.10 jedi-0.19.2 multiprocess-0.70.18 retrying-1.3.4 zope.event-5.0 zope.interface-7.2\n"
          ]
        }
      ],
      "source": [
        "!pip install interpret"
      ]
    },
    {
      "cell_type": "markdown",
      "id": "d_S607iQXU_Q",
      "metadata": {
        "id": "d_S607iQXU_Q"
      },
      "source": [
        "#### Mount google drive"
      ]
    },
    {
      "cell_type": "code",
      "execution_count": null,
      "id": "vpRTkLTbXdnJ",
      "metadata": {
        "colab": {
          "base_uri": "https://localhost:8080/"
        },
        "id": "vpRTkLTbXdnJ",
        "outputId": "26133622-914c-4997-aea3-31e83940d8ce"
      },
      "outputs": [
        {
          "name": "stdout",
          "output_type": "stream",
          "text": [
            "Mounted at /content/drive/\n",
            "/content/drive/My Drive/DNSC_6330_Software/assignments\n",
            "assign_1_template.ipynb  assign_4_template.ipynb\n",
            "assign_2_template.ipynb  assign_5_template.ipynb\n",
            "assign_3_template.ipynb  assign_5_template_original.ipynb\n"
          ]
        }
      ],
      "source": [
        "from google.colab import drive\n",
        "drive.mount('/content/drive/', force_remount=True)\n",
        "# may need to be updated to location on your drive\n",
        "%cd drive/My\\ Drive/DNSC_6330_Software/assignments/\n",
        "%ls"
      ]
    },
    {
      "cell_type": "markdown",
      "id": "44ddbb28",
      "metadata": {
        "id": "44ddbb28"
      },
      "source": [
        "#### Imports and inits"
      ]
    },
    {
      "cell_type": "code",
      "execution_count": null,
      "id": "4baedf75",
      "metadata": {
        "id": "4baedf75",
        "scrolled": true
      },
      "outputs": [],
      "source": [
        "from interpret.glassbox import ExplainableBoostingClassifier      # interpret ebm class\n",
        "from interpret.perf import ROC                                    # ROC measure for ebm\n",
        "import numpy as np                                                # for basic array manipulation\n",
        "import pandas as pd                                               # for dataframe manipulation\n",
        "import time                                                       # for timers\n",
        "\n",
        "# plotting functionality\n",
        "import matplotlib.pyplot as plt\n",
        "from matplotlib.lines import Line2D  # necessary for custom legends\n",
        "\n",
        "# display plots in notebook\n",
        "%matplotlib inline\n",
        "\n",
        "# set numpy random seed for better reproducibility\n",
        "SEED = 12345\n",
        "np.random.seed(SEED)\n",
        "\n",
        "# set number of threads\n",
        "NTHREAD = 4"
      ]
    },
    {
      "cell_type": "markdown",
      "id": "152e8474",
      "metadata": {
        "id": "152e8474"
      },
      "source": [
        "#### Start global timer"
      ]
    },
    {
      "cell_type": "code",
      "execution_count": null,
      "id": "110ae3e4",
      "metadata": {
        "id": "110ae3e4"
      },
      "outputs": [],
      "source": [
        "tic = time.time()"
      ]
    },
    {
      "cell_type": "markdown",
      "id": "e36c81fd",
      "metadata": {
        "id": "e36c81fd"
      },
      "source": [
        "#### Import data"
      ]
    },
    {
      "cell_type": "code",
      "execution_count": null,
      "id": "36898e3f",
      "metadata": {
        "id": "36898e3f"
      },
      "outputs": [],
      "source": [
        "data = pd.read_csv('../data/hmda_train_preprocessed.csv')"
      ]
    },
    {
      "cell_type": "markdown",
      "id": "02f780ca",
      "metadata": {
        "id": "02f780ca"
      },
      "source": [
        "#### Assign basic modeling roles"
      ]
    },
    {
      "cell_type": "code",
      "execution_count": null,
      "id": "374364cd",
      "metadata": {
        "id": "374364cd"
      },
      "outputs": [],
      "source": [
        "y_name = 'high_priced'"
      ]
    },
    {
      "cell_type": "markdown",
      "id": "2bd91ac7",
      "metadata": {
        "id": "2bd91ac7"
      },
      "source": [
        "## Fit interpretable model"
      ]
    },
    {
      "cell_type": "markdown",
      "id": "b63c7465",
      "metadata": {
        "id": "b63c7465"
      },
      "source": [
        "#### Split data into train and validation partitions"
      ]
    },
    {
      "cell_type": "code",
      "execution_count": null,
      "id": "d82faabc",
      "metadata": {
        "colab": {
          "base_uri": "https://localhost:8080/"
        },
        "id": "d82faabc",
        "outputId": "68fa991a-6b52-41d2-8428-4ed9963ce5c0",
        "scrolled": true
      },
      "outputs": [
        {
          "name": "stdout",
          "output_type": "stream",
          "text": [
            "Train data rows = 112253, columns = 23\n",
            "Validation data rows = 48085, columns = 23\n"
          ]
        }
      ],
      "source": [
        "np.random.seed(SEED)  # Ensure reproducibility for this split\n",
        "\n",
        "split_ratio = 0.7  # 70%/30% train/validation split\n",
        "\n",
        "# execute split\n",
        "split = np.random.rand(len(data)) < split_ratio\n",
        "train = data[split]\n",
        "valid = data[~split]\n",
        "\n",
        "# summarize split\n",
        "print('Train data rows = %d, columns = %d' % (train.shape[0], train.shape[1]))\n",
        "print('Validation data rows = %d, columns = %d' % (valid.shape[0], valid.shape[1]))"
      ]
    },
    {
      "cell_type": "markdown",
      "id": "348b7fb0",
      "metadata": {
        "id": "348b7fb0"
      },
      "source": [
        "### Explainable Boosting Machine"
      ]
    },
    {
      "cell_type": "markdown",
      "id": "df03ff02",
      "metadata": {
        "id": "df03ff02"
      },
      "source": [
        "#### Retrain most accurate model above 0.8 AIR to debug"
      ]
    },
    {
      "cell_type": "code",
      "execution_count": null,
      "id": "363c0f63",
      "metadata": {
        "colab": {
          "background_save": true,
          "base_uri": "https://localhost:8080/"
        },
        "id": "363c0f63",
        "outputId": "11381ac9-5c02-4829-fc17-191bdfaf3220"
      },
      "outputs": [
        {
          "name": "stdout",
          "output_type": "stream",
          "text": [
            "Removed features due to high correlation (>0.95): []\n",
            "Final rem_x_names after feature selection: ['property_value_std', 'no_intro_rate_period_std', 'loan_amount_std', 'income_std', 'conforming', 'intro_rate_period_std', 'debt_to_income_ratio_std', 'term_360', 'loan_to_value_loan_amount', 'debt_to_income_ratio_squared', 'intro_rate_ltv', 'property_value_income', 'property_value_debt_to_income']\n",
            "New best AUC: 0.8242 with params: {'max_bins': 512, 'max_interaction_bins': 32, 'inner_bags': 0, 'validation_size': 0.25, 'early_stopping_rounds': 100, 'n_jobs': 4, 'random_state': 12345, 'learning_rate': 0.0102, 'interactions': 25, 'outer_bags': 16, 'max_leaves': 4, 'min_samples_leaf': 5}\n",
            "New best AUC: 0.8245 with params: {'max_bins': 512, 'max_interaction_bins': 32, 'inner_bags': 0, 'validation_size': 0.25, 'early_stopping_rounds': 100, 'n_jobs': 4, 'random_state': 12345, 'learning_rate': 0.0102, 'interactions': 25, 'outer_bags': 16, 'max_leaves': 3, 'min_samples_leaf': 5}\n",
            "Best parameters found: {'max_bins': 512, 'max_interaction_bins': 32, 'inner_bags': 0, 'validation_size': 0.25, 'early_stopping_rounds': 100, 'n_jobs': 4, 'random_state': 12345, 'learning_rate': 0.0102, 'interactions': 25, 'outer_bags': 16, 'max_leaves': 3, 'min_samples_leaf': 5}\n",
            "Best AUC: 0.8245\n",
            "Remediated EBM retrained with AUC: 0.8245.\n"
          ]
        }
      ],
      "source": [
        "# Create deep copies to add interaction terms\n",
        "train_copy = train.copy(deep=True)\n",
        "valid_copy = valid.copy(deep=True)\n",
        "\n",
        "# Add interaction terms to enhance feature set\n",
        "train_copy['loan_to_value_loan_amount'] = train_copy['loan_to_value_ratio_std'] * train_copy['loan_amount_std']\n",
        "valid_copy['loan_to_value_loan_amount'] = valid_copy['loan_to_value_ratio_std'] * valid_copy['loan_amount_std']\n",
        "train_copy['debt_to_income_ratio_squared'] = train_copy['debt_to_income_ratio_std'] ** 2\n",
        "valid_copy['debt_to_income_ratio_squared'] = valid_copy['debt_to_income_ratio_std'] ** 2\n",
        "train_copy['intro_rate_ltv'] = train_copy['intro_rate_period_std'] * train_copy['loan_to_value_ratio_std']\n",
        "valid_copy['intro_rate_ltv'] = valid_copy['intro_rate_period_std'] * valid_copy['loan_to_value_ratio_std']\n",
        "train_copy['property_value_income'] = train_copy['property_value_std'] * train_copy['income_std']\n",
        "valid_copy['property_value_income'] = valid_copy['property_value_std'] * valid_copy['income_std']\n",
        "train_copy['property_value_debt_to_income'] = train_copy['property_value_std'] * train_copy['debt_to_income_ratio_std']\n",
        "valid_copy['property_value_debt_to_income'] = valid_copy['property_value_std'] * valid_copy['debt_to_income_ratio_std']\n",
        "\n",
        "# Update feature list to include interaction terms\n",
        "rem_x_names = ['property_value_std',\n",
        "               'no_intro_rate_period_std',\n",
        "               'loan_amount_std',\n",
        "               'income_std',\n",
        "               'conforming',\n",
        "               'intro_rate_period_std',\n",
        "               'debt_to_income_ratio_std',\n",
        "               'term_360',\n",
        "               'loan_to_value_loan_amount',\n",
        "               'debt_to_income_ratio_squared',\n",
        "               'intro_rate_ltv',\n",
        "               'property_value_income',\n",
        "               'property_value_debt_to_income']\n",
        "\n",
        "# Feature selection: Manually check for high correlation (>0.95) and remove redundant features\n",
        "correlation_matrix = train_copy[rem_x_names].corr().abs()\n",
        "upper = correlation_matrix.where(np.triu(np.ones(correlation_matrix.shape), k=1).astype(bool))\n",
        "to_drop = [column for column in upper.columns if any(upper[column] > 0.95)]\n",
        "rem_x_names = [col for col in rem_x_names if col not in to_drop]\n",
        "print(f'Removed features due to high correlation (>0.95): {to_drop}')\n",
        "print(f'Final rem_x_names after feature selection: {rem_x_names}')\n",
        "\n",
        "# Define focused parameter grid with increased capacity\n",
        "param_grid = {\n",
        "    'learning_rate': [0.0100, 0.0101, 0.0102],  # Expanded around previous best values\n",
        "    'interactions': [24, 25, 26],\n",
        "    'outer_bags': [15, 16],\n",
        "    'max_leaves': [3, 4],  # Reverted to include previous best value\n",
        "    'min_samples_leaf': [5]  # Fixed at optimal value\n",
        "}\n",
        "\n",
        "# Number of random combinations to try\n",
        "n_combinations = 6  # Increased from 4 to 6 for more thorough search\n",
        "\n",
        "# Base parameters\n",
        "base_params = {\n",
        "    'max_bins': 512,\n",
        "    'max_interaction_bins': 32,\n",
        "    'inner_bags': 0,\n",
        "    'validation_size': 0.25,\n",
        "    'early_stopping_rounds': 100,\n",
        "    'n_jobs': NTHREAD,\n",
        "    'random_state': SEED\n",
        "}\n",
        "\n",
        "best_auc = 0\n",
        "best_params = None\n",
        "\n",
        "# Perform random search for hyperparameter tuning\n",
        "np.random.seed(SEED)\n",
        "for _ in range(n_combinations):\n",
        "    lr = float(np.random.choice(param_grid['learning_rate']))\n",
        "    interactions = int(np.random.choice(param_grid['interactions']))\n",
        "    outer_bags = int(np.random.choice(param_grid['outer_bags']))\n",
        "    max_leaves = int(np.random.choice(param_grid['max_leaves']))\n",
        "    min_samples_leaf = int(np.random.choice(param_grid['min_samples_leaf']))\n",
        "\n",
        "    current_params = base_params.copy()\n",
        "    current_params.update({\n",
        "        'learning_rate': lr,\n",
        "        'interactions': interactions,\n",
        "        'outer_bags': outer_bags,\n",
        "        'max_leaves': max_leaves,\n",
        "        'min_samples_leaf': min_samples_leaf\n",
        "    })\n",
        "\n",
        "    ebm = ExplainableBoostingClassifier(**current_params)\n",
        "    ebm.fit(train_copy[rem_x_names], train_copy[y_name])\n",
        "\n",
        "    perf = ROC(ebm.predict_proba).explain_perf(valid_copy[rem_x_names], valid_copy[y_name])\n",
        "    auc = perf._internal_obj['overall']['auc']\n",
        "\n",
        "    if auc > best_auc:\n",
        "        best_auc = auc\n",
        "        best_params = current_params\n",
        "        print(f'New best AUC: {auc:.4f} with params: {best_params}')\n",
        "\n",
        "print(f'Best parameters found: {best_params}')\n",
        "print(f'Best AUC: {best_auc:.4f}')\n",
        "\n",
        "# Update rem_params with the best parameters\n",
        "rem_params = best_params\n",
        "\n",
        "# Ensure integer parameters\n",
        "rem_params['random_state'] = int(rem_params['random_state'])\n",
        "rem_params['n_jobs'] = int(rem_params['n_jobs'])\n",
        "rem_params['early_stopping_rounds'] = int(rem_params['early_stopping_rounds'])\n",
        "\n",
        "# Update train and valid with interaction terms\n",
        "train = train_copy\n",
        "valid = valid_copy\n",
        "\n",
        "# Retrain the base model with best parameters\n",
        "rem_ebm = ExplainableBoostingClassifier(**rem_params)\n",
        "rem_ebm.fit(train[rem_x_names], train[y_name])\n",
        "rem_ebm_perf = ROC(rem_ebm.predict_proba).explain_perf(valid[rem_x_names], valid[y_name])\n",
        "rem_auc = rem_ebm_perf._internal_obj['overall']['auc']\n",
        "print('Remediated EBM retrained with AUC: %.4f.' % rem_auc)"
      ]
    },
    {
      "cell_type": "markdown",
      "id": "cfb8c431",
      "metadata": {
        "id": "cfb8c431"
      },
      "source": [
        "## Sensitivity Analysis: Stress Testing"
      ]
    },
    {
      "cell_type": "markdown",
      "id": "dbddbe49",
      "metadata": {
        "id": "dbddbe49"
      },
      "source": [
        "#### Simulate recession conditions in validation data"
      ]
    },
    {
      "cell_type": "code",
      "execution_count": null,
      "id": "5ccac210",
      "metadata": {
        "colab": {
          "background_save": true
        },
        "id": "5ccac210",
        "outputId": "299b58c0-2389-40a1-d32a-eda9f5750ea5"
      },
      "outputs": [
        {
          "data": {
            "image/png": "[encoded data removed]",
            "text/plain": [
              "<Figure size 1500x1500 with 16 Axes>"
            ]
          },
          "metadata": {},
          "output_type": "display_data"
        }
      ],
      "source": [
        "np.random.seed(SEED)  # Ensure reproducibility\n",
        "\n",
        "rec_valid = valid.copy(deep=True)  # Deep copy of validation data\n",
        "\n",
        "# Add interaction terms to rec_valid to match rem_x_names\n",
        "rec_valid['loan_to_value_loan_amount'] = rec_valid['loan_to_value_ratio_std'] * rec_valid['loan_amount_std']\n",
        "rec_valid['debt_to_income_ratio_squared'] = rec_valid['debt_to_income_ratio_std'] ** 2\n",
        "rec_valid['intro_rate_ltv'] = rec_valid['intro_rate_period_std'] * rec_valid['loan_to_value_ratio_std']\n",
        "rec_valid['property_value_income'] = rec_valid['property_value_std'] * rec_valid['income_std']\n",
        "rec_valid['property_value_debt_to_income'] = rec_valid['property_value_std'] * rec_valid['debt_to_income_ratio_std']\n",
        "\n",
        "# Use severity variable to control how many customers are affected\n",
        "severity = 0.1\n",
        "affected = np.random.rand(len(rec_valid)) < severity\n",
        "\n",
        "# Decrease property values by 5%\n",
        "rec_valid.loc[affected, 'property_value_std'] = rec_valid.loc[affected, 'property_value_std'] * 0.95\n",
        "\n",
        "# Less intro rates\n",
        "rec_valid.loc[affected, 'no_intro_rate_period_std'] = 0.2443944\n",
        "\n",
        "# Lower loan amounts by 5%\n",
        "rec_valid.loc[affected, 'loan_amount_std'] = rec_valid.loc[affected, 'loan_amount_std'] * 0.95\n",
        "\n",
        "# Lower income by 5%\n",
        "rec_valid.loc[affected, 'income_std'] = rec_valid.loc[affected, 'income_std'] * 0.95\n",
        "\n",
        "# Less conforming loans\n",
        "rec_valid.loc[affected, 'conforming'] = 0\n",
        "\n",
        "# Shorter intro rate periods\n",
        "rec_valid.loc[affected, 'intro_rate_period_std'] = rec_valid.loc[affected, 'intro_rate_period_std'] * 0.95\n",
        "\n",
        "# 5% higher debt-to-income ratios\n",
        "rec_valid.loc[affected, 'debt_to_income_ratio_std'] = rec_valid.loc[affected, 'debt_to_income_ratio_std'] * 1.05\n",
        "\n",
        "# More long loans\n",
        "rec_valid.loc[affected, 'term_360'] = 1\n",
        "\n",
        "# Update target: Randomly assign high_priced to simulate uncertainty\n",
        "rec_valid.loc[affected, y_name] = np.random.choice(2, len(rec_valid.loc[affected, y_name]))\n",
        "\n",
        "# Visualize results\n",
        "_ = rec_valid[rem_x_names + [y_name]].hist(bins=50, figsize=(15, 15))"
      ]
    },
    {
      "cell_type": "markdown",
      "id": "063c0d9a",
      "metadata": {
        "id": "063c0d9a"
      },
      "source": [
        "#### Find AUC for best model in simulated recession conditions"
      ]
    },
    {
      "cell_type": "code",
      "execution_count": null,
      "id": "d07eec8c",
      "metadata": {
        "colab": {
          "background_save": true
        },
        "id": "d07eec8c",
        "outputId": "b1d50fa8-17e6-48c9-f517-c7e2bd978c74"
      },
      "outputs": [
        {
          "name": "stdout",
          "output_type": "stream",
          "text": [
            "Remediated EBM retrained with AUC: 0.6989.\n"
          ]
        }
      ],
      "source": [
        "rec_rem_ebm_perf = ROC(rem_ebm.predict_proba).explain_perf(rec_valid[rem_x_names], rec_valid[y_name])\n",
        "rec_rem_auc = rec_rem_ebm_perf._internal_obj['overall']['auc']\n",
        "print('Remediated EBM retrained with AUC: %.4f.' % rec_rem_auc)"
      ]
    },
    {
      "cell_type": "markdown",
      "id": "f47d17d8",
      "metadata": {
        "id": "f47d17d8"
      },
      "source": [
        "Note the major drop in performance for recession conditions, which is normal for all models and usually worse for complex ML models. It's not unlikely that the more constrained monotonic GBM or penalized GLM could perform better in these conditions.\n",
        "\n",
        "Also, this tells us we need to monitor this model carefully, because when recession conditions begin, this model will fail quickly."
      ]
    },
    {
      "cell_type": "markdown",
      "id": "db549da5",
      "metadata": {
        "id": "db549da5"
      },
      "source": [
        "## Residual Analysis"
      ]
    },
    {
      "cell_type": "markdown",
      "id": "e133d56b",
      "metadata": {
        "id": "e133d56b"
      },
      "source": [
        "#### Calculate predictions and logloss residuals for all data"
      ]
    },
    {
      "cell_type": "code",
      "execution_count": null,
      "id": "ad6178f9",
      "metadata": {
        "colab": {
          "background_save": true
        },
        "id": "ad6178f9"
      },
      "outputs": [],
      "source": [
        "# Shortcut names\n",
        "yhat_name = 'phat'\n",
        "r_name = 'r'\n",
        "\n",
        "# Add interaction terms to data to match rem_x_names\n",
        "data['loan_to_value_loan_amount'] = data['loan_to_value_ratio_std'] * data['loan_amount_std']\n",
        "data['debt_to_income_ratio_squared'] = data['debt_to_income_ratio_std'] ** 2\n",
        "data['intro_rate_ltv'] = data['intro_rate_period_std'] * data['loan_to_value_ratio_std']\n",
        "data['property_value_income'] = data['property_value_std'] * data['income_std']\n",
        "data['property_value_debt_to_income'] = data['property_value_std'] * data['debt_to_income_ratio_std']\n",
        "\n",
        "# Calculate predictions\n",
        "rem_ebm_phat = pd.DataFrame(rem_ebm.predict_proba(data[rem_x_names])[:, 1], columns=['phat'])\n",
        "rem_ebm_phat = pd.concat([data.reset_index(drop=True), rem_ebm_phat], axis=1)\n",
        "\n",
        "# Calculate logloss residuals\n",
        "rem_ebm_phat[r_name] = -rem_ebm_phat[y_name]*np.log(rem_ebm_phat[yhat_name]) -\\\n",
        "                       (1 - rem_ebm_phat[y_name])*np.log(1 - rem_ebm_phat[yhat_name])"
      ]
    },
    {
      "cell_type": "markdown",
      "id": "466b7643",
      "metadata": {
        "id": "466b7643"
      },
      "source": [
        "#### Plot residuals"
      ]
    },
    {
      "cell_type": "code",
      "execution_count": null,
      "id": "cb1268d0",
      "metadata": {
        "colab": {
          "background_save": true
        },
        "id": "cb1268d0",
        "outputId": "5f563d4e-fbab-4531-9e2e-fe2fa28acf97"
      },
      "outputs": [
        {
          "data": {
            "image/png": "[encoded data removed]",
            "text/plain": [
              "<Figure size 800x800 with 1 Axes>"
            ]
          },
          "metadata": {},
          "output_type": "display_data"
        }
      ],
      "source": [
        "# Initialize figure\n",
        "fig, ax_ = plt.subplots(figsize=(8, 8))\n",
        "\n",
        "# Plot groups with appropriate color\n",
        "color_list = ['royalblue', 'magenta']\n",
        "c_idx = 0\n",
        "groups = rem_ebm_phat.groupby(y_name)\n",
        "for name, group in groups:\n",
        "    ax_.plot(group.phat, group.r,\n",
        "             label=' '.join([y_name, str(name)]),\n",
        "             marker='o', linestyle='', color=color_list[c_idx], alpha=0.3)\n",
        "    c_idx += 1\n",
        "\n",
        "# Annotate plot\n",
        "_ = plt.xlabel(yhat_name)\n",
        "_ = plt.ylabel(r_name)\n",
        "_ = ax_.legend(loc=1)\n",
        "_ = plt.title('Global Logloss Residuals')"
      ]
    },
    {
      "cell_type": "markdown",
      "id": "032a2279",
      "metadata": {
        "id": "032a2279"
      },
      "source": [
        "Residuals are very unbalanced. This model struggles to predict when customers will recieve a high-priced loan correctly. It does much better when predicting customers will NOT receive a high-priced loan. There are also some very noticable outliers."
      ]
    },
    {
      "cell_type": "markdown",
      "id": "34d57885",
      "metadata": {
        "id": "34d57885"
      },
      "source": [
        "## Remediation: Remove Outliers"
      ]
    },
    {
      "cell_type": "markdown",
      "id": "a77f9847",
      "metadata": {
        "id": "a77f9847"
      },
      "source": [
        "#### Find outliers"
      ]
    },
    {
      "cell_type": "code",
      "execution_count": null,
      "id": "8785a979",
      "metadata": {
        "colab": {
          "background_save": true
        },
        "id": "8785a979",
        "outputId": "94f5031a-d935-4e0b-884c-9c1652eb130b"
      },
      "outputs": [
        {
          "data": {
            "application/vnd.google.colaboratory.intrinsic+json": {
              "type": "dataframe"
            },
            "text/html": [
              "\n",
              "  <div id=\"df-8b9bb639-d045-46a7-ab56-5e564d1909f8\" class=\"colab-df-container\">\n",
              "    <div>\n",
              "<style scoped>\n",
              "    .dataframe tbody tr th:only-of-type {\n",
              "        vertical-align: middle;\n",
              "    }\n",
              "\n",
              "    .dataframe tbody tr th {\n",
              "        vertical-align: top;\n",
              "    }\n",
              "\n",
              "    .dataframe thead th {\n",
              "        text-align: right;\n",
              "    }\n",
              "</style>\n",
              "<table border=\"1\" class=\"dataframe\">\n",
              "  <thead>\n",
              "    <tr style=\"text-align: right;\">\n",
              "      <th></th>\n",
              "      <th>row_id</th>\n",
              "      <th>black</th>\n",
              "      <th>asian</th>\n",
              "      <th>white</th>\n",
              "      <th>amind</th>\n",
              "      <th>hipac</th>\n",
              "      <th>hispanic</th>\n",
              "      <th>non_hispanic</th>\n",
              "      <th>male</th>\n",
              "      <th>female</th>\n",
              "      <th>...</th>\n",
              "      <th>income_std</th>\n",
              "      <th>debt_to_income_ratio_std</th>\n",
              "      <th>high_priced</th>\n",
              "      <th>loan_to_value_loan_amount</th>\n",
              "      <th>debt_to_income_ratio_squared</th>\n",
              "      <th>intro_rate_ltv</th>\n",
              "      <th>property_value_income</th>\n",
              "      <th>property_value_debt_to_income</th>\n",
              "      <th>phat</th>\n",
              "      <th>r</th>\n",
              "    </tr>\n",
              "  </thead>\n",
              "  <tbody>\n",
              "    <tr>\n",
              "      <th>143877</th>\n",
              "      <td>143877</td>\n",
              "      <td>0.0</td>\n",
              "      <td>0.0</td>\n",
              "      <td>1.0</td>\n",
              "      <td>0.0</td>\n",
              "      <td>0.0</td>\n",
              "      <td>1.0</td>\n",
              "      <td>0.0</td>\n",
              "      <td>1.0</td>\n",
              "      <td>0.0</td>\n",
              "      <td>...</td>\n",
              "      <td>-0.035110</td>\n",
              "      <td>1.037419</td>\n",
              "      <td>1</td>\n",
              "      <td>-0.302707</td>\n",
              "      <td>1.076239</td>\n",
              "      <td>0.073006</td>\n",
              "      <td>-0.029901</td>\n",
              "      <td>0.883500</td>\n",
              "      <td>0.000800</td>\n",
              "      <td>7.130464</td>\n",
              "    </tr>\n",
              "    <tr>\n",
              "      <th>71804</th>\n",
              "      <td>71804</td>\n",
              "      <td>0.0</td>\n",
              "      <td>0.0</td>\n",
              "      <td>1.0</td>\n",
              "      <td>0.0</td>\n",
              "      <td>0.0</td>\n",
              "      <td>0.0</td>\n",
              "      <td>1.0</td>\n",
              "      <td>NaN</td>\n",
              "      <td>NaN</td>\n",
              "      <td>...</td>\n",
              "      <td>-0.018133</td>\n",
              "      <td>0.214735</td>\n",
              "      <td>1</td>\n",
              "      <td>0.070313</td>\n",
              "      <td>0.046111</td>\n",
              "      <td>0.792620</td>\n",
              "      <td>-0.003701</td>\n",
              "      <td>0.043828</td>\n",
              "      <td>0.001027</td>\n",
              "      <td>6.881352</td>\n",
              "    </tr>\n",
              "    <tr>\n",
              "      <th>66704</th>\n",
              "      <td>66704</td>\n",
              "      <td>0.0</td>\n",
              "      <td>0.0</td>\n",
              "      <td>1.0</td>\n",
              "      <td>0.0</td>\n",
              "      <td>0.0</td>\n",
              "      <td>0.0</td>\n",
              "      <td>1.0</td>\n",
              "      <td>NaN</td>\n",
              "      <td>NaN</td>\n",
              "      <td>...</td>\n",
              "      <td>-0.012935</td>\n",
              "      <td>0.854601</td>\n",
              "      <td>1</td>\n",
              "      <td>0.216750</td>\n",
              "      <td>0.730342</td>\n",
              "      <td>4.312789</td>\n",
              "      <td>-0.005033</td>\n",
              "      <td>0.332534</td>\n",
              "      <td>0.001449</td>\n",
              "      <td>6.536802</td>\n",
              "    </tr>\n",
              "    <tr>\n",
              "      <th>144991</th>\n",
              "      <td>144991</td>\n",
              "      <td>0.0</td>\n",
              "      <td>0.0</td>\n",
              "      <td>1.0</td>\n",
              "      <td>0.0</td>\n",
              "      <td>0.0</td>\n",
              "      <td>0.0</td>\n",
              "      <td>1.0</td>\n",
              "      <td>0.0</td>\n",
              "      <td>1.0</td>\n",
              "      <td>...</td>\n",
              "      <td>-0.052781</td>\n",
              "      <td>-1.156406</td>\n",
              "      <td>1</td>\n",
              "      <td>0.681646</td>\n",
              "      <td>1.337275</td>\n",
              "      <td>0.383714</td>\n",
              "      <td>-0.020538</td>\n",
              "      <td>-0.449970</td>\n",
              "      <td>0.001539</td>\n",
              "      <td>6.476662</td>\n",
              "    </tr>\n",
              "    <tr>\n",
              "      <th>83113</th>\n",
              "      <td>83113</td>\n",
              "      <td>0.0</td>\n",
              "      <td>0.0</td>\n",
              "      <td>1.0</td>\n",
              "      <td>0.0</td>\n",
              "      <td>0.0</td>\n",
              "      <td>1.0</td>\n",
              "      <td>0.0</td>\n",
              "      <td>1.0</td>\n",
              "      <td>0.0</td>\n",
              "      <td>...</td>\n",
              "      <td>0.017208</td>\n",
              "      <td>-0.059493</td>\n",
              "      <td>1</td>\n",
              "      <td>-0.210766</td>\n",
              "      <td>0.003539</td>\n",
              "      <td>0.059646</td>\n",
              "      <td>0.012002</td>\n",
              "      <td>-0.041494</td>\n",
              "      <td>0.001683</td>\n",
              "      <td>6.387073</td>\n",
              "    </tr>\n",
              "  </tbody>\n",
              "</table>\n",
              "<p>5 rows × 30 columns</p>\n",
              "</div>\n",
              "    <div class=\"colab-df-buttons\">\n",
              "\n",
              "  <div class=\"colab-df-container\">\n",
              "    <button class=\"colab-df-convert\" onclick=\"convertToInteractive('df-8b9bb639-d045-46a7-ab56-5e564d1909f8')\"\n",
              "            title=\"Convert this dataframe to an interactive table.\"\n",
              "            style=\"display:none;\">\n",
              "\n",
              "  <svg xmlns=\"http://www.w3.org/2000/svg\" height=\"24px\" viewBox=\"0 -960 960 960\">\n",
              "    <path d=\"M120-120v-720h720v720H120Zm60-500h600v-160H180v160Zm220 220h160v-160H400v160Zm0 220h160v-160H400v160ZM180-400h160v-160H180v160Zm440 0h160v-160H620v160ZM180-180h160v-160H180v160Zm440 0h160v-160H620v160Z\"/>\n",
              "  </svg>\n",
              "    </button>\n",
              "\n",
              "  <style>\n",
              "    .colab-df-container {\n",
              "      display:flex;\n",
              "      gap: 12px;\n",
              "    }\n",
              "\n",
              "    .colab-df-convert {\n",
              "      background-color: #E8F0FE;\n",
              "      border: none;\n",
              "      border-radius: 50%;\n",
              "      cursor: pointer;\n",
              "      display: none;\n",
              "      fill: #1967D2;\n",
              "      height: 32px;\n",
              "      padding: 0 0 0 0;\n",
              "      width: 32px;\n",
              "    }\n",
              "\n",
              "    .colab-df-convert:hover {\n",
              "      background-color: #E2EBFA;\n",
              "      box-shadow: 0px 1px 2px rgba(60, 64, 67, 0.3), 0px 1px 3px 1px rgba(60, 64, 67, 0.15);\n",
              "      fill: #174EA6;\n",
              "    }\n",
              "\n",
              "    .colab-df-buttons div {\n",
              "      margin-bottom: 4px;\n",
              "    }\n",
              "\n",
              "    [theme=dark] .colab-df-convert {\n",
              "      background-color: #3B4455;\n",
              "      fill: #D2E3FC;\n",
              "    }\n",
              "\n",
              "    [theme=dark] .colab-df-convert:hover {\n",
              "      background-color: #434B5C;\n",
              "      box-shadow: 0px 1px 3px 1px rgba(0, 0, 0, 0.15);\n",
              "      filter: drop-shadow(0px 1px 2px rgba(0, 0, 0, 0.3));\n",
              "      fill: #FFFFFF;\n",
              "    }\n",
              "  </style>\n",
              "\n",
              "    <script>\n",
              "      const buttonEl =\n",
              "        document.querySelector('#df-8b9bb639-d045-46a7-ab56-5e564d1909f8 button.colab-df-convert');\n",
              "      buttonEl.style.display =\n",
              "        google.colab.kernel.accessAllowed ? 'block' : 'none';\n",
              "\n",
              "      async function convertToInteractive(key) {\n",
              "        const element = document.querySelector('#df-8b9bb639-d045-46a7-ab56-5e564d1909f8');\n",
              "        const dataTable =\n",
              "          await google.colab.kernel.invokeFunction('convertToInteractive',\n",
              "                                                    [key], {});\n",
              "        if (!dataTable) return;\n",
              "\n",
              "        const docLinkHtml = 'Like what you see? Visit the ' +\n",
              "          '<a target=\"_blank\" href=https://colab.research.google.com/notebooks/data_table.ipynb>data table notebook</a>'\n",
              "          + ' to learn more about interactive tables.';\n",
              "        element.innerHTML = '';\n",
              "        dataTable['output_type'] = 'display_data';\n",
              "        await google.colab.output.renderOutput(dataTable, element);\n",
              "        const docLink = document.createElement('div');\n",
              "        docLink.innerHTML = docLinkHtml;\n",
              "        element.appendChild(docLink);\n",
              "      }\n",
              "    </script>\n",
              "  </div>\n",
              "\n",
              "\n",
              "<div id=\"df-4048c3ff-4be8-4e2a-951b-e44838bfa925\">\n",
              "  <button class=\"colab-df-quickchart\" onclick=\"quickchart('df-4048c3ff-4be8-4e2a-951b-e44838bfa925')\"\n",
              "            title=\"Suggest charts\"\n",
              "            style=\"display:none;\">\n",
              "\n",
              "<svg xmlns=\"http://www.w3.org/2000/svg\" height=\"24px\"viewBox=\"0 0 24 24\"\n",
              "     width=\"24px\">\n",
              "    <g>\n",
              "        <path d=\"M19 3H5c-1.1 0-2 .9-2 2v14c0 1.1.9 2 2 2h14c1.1 0 2-.9 2-2V5c0-1.1-.9-2-2-2zM9 17H7v-7h2v7zm4 0h-2V7h2v10zm4 0h-2v-4h2v4z\"/>\n",
              "    </g>\n",
              "</svg>\n",
              "  </button>\n",
              "\n",
              "<style>\n",
              "  .colab-df-quickchart {\n",
              "      --bg-color: #E8F0FE;\n",
              "      --fill-color: #1967D2;\n",
              "      --hover-bg-color: #E2EBFA;\n",
              "      --hover-fill-color: #174EA6;\n",
              "      --disabled-fill-color: #AAA;\n",
              "      --disabled-bg-color: #DDD;\n",
              "  }\n",
              "\n",
              "  [theme=dark] .colab-df-quickchart {\n",
              "      --bg-color: #3B4455;\n",
              "      --fill-color: #D2E3FC;\n",
              "      --hover-bg-color: #434B5C;\n",
              "      --hover-fill-color: #FFFFFF;\n",
              "      --disabled-bg-color: #3B4455;\n",
              "      --disabled-fill-color: #666;\n",
              "  }\n",
              "\n",
              "  .colab-df-quickchart {\n",
              "    background-color: var(--bg-color);\n",
              "    border: none;\n",
              "    border-radius: 50%;\n",
              "    cursor: pointer;\n",
              "    display: none;\n",
              "    fill: var(--fill-color);\n",
              "    height: 32px;\n",
              "    padding: 0;\n",
              "    width: 32px;\n",
              "  }\n",
              "\n",
              "  .colab-df-quickchart:hover {\n",
              "    background-color: var(--hover-bg-color);\n",
              "    box-shadow: 0 1px 2px rgba(60, 64, 67, 0.3), 0 1px 3px 1px rgba(60, 64, 67, 0.15);\n",
              "    fill: var(--button-hover-fill-color);\n",
              "  }\n",
              "\n",
              "  .colab-df-quickchart-complete:disabled,\n",
              "  .colab-df-quickchart-complete:disabled:hover {\n",
              "    background-color: var(--disabled-bg-color);\n",
              "    fill: var(--disabled-fill-color);\n",
              "    box-shadow: none;\n",
              "  }\n",
              "\n",
              "  .colab-df-spinner {\n",
              "    border: 2px solid var(--fill-color);\n",
              "    border-color: transparent;\n",
              "    border-bottom-color: var(--fill-color);\n",
              "    animation:\n",
              "      spin 1s steps(1) infinite;\n",
              "  }\n",
              "\n",
              "  @keyframes spin {\n",
              "    0% {\n",
              "      border-color: transparent;\n",
              "      border-bottom-color: var(--fill-color);\n",
              "      border-left-color: var(--fill-color);\n",
              "    }\n",
              "    20% {\n",
              "      border-color: transparent;\n",
              "      border-left-color: var(--fill-color);\n",
              "      border-top-color: var(--fill-color);\n",
              "    }\n",
              "    30% {\n",
              "      border-color: transparent;\n",
              "      border-left-color: var(--fill-color);\n",
              "      border-top-color: var(--fill-color);\n",
              "      border-right-color: var(--fill-color);\n",
              "    }\n",
              "    40% {\n",
              "      border-color: transparent;\n",
              "      border-right-color: var(--fill-color);\n",
              "      border-top-color: var(--fill-color);\n",
              "    }\n",
              "    60% {\n",
              "      border-color: transparent;\n",
              "      border-right-color: var(--fill-color);\n",
              "    }\n",
              "    80% {\n",
              "      border-color: transparent;\n",
              "      border-right-color: var(--fill-color);\n",
              "      border-bottom-color: var(--fill-color);\n",
              "    }\n",
              "    90% {\n",
              "      border-color: transparent;\n",
              "      border-bottom-color: var(--fill-color);\n",
              "    }\n",
              "  }\n",
              "</style>\n",
              "\n",
              "  <script>\n",
              "    async function quickchart(key) {\n",
              "      const quickchartButtonEl =\n",
              "        document.querySelector('#' + key + ' button');\n",
              "      quickchartButtonEl.disabled = true;  // To prevent multiple clicks.\n",
              "      quickchartButtonEl.classList.add('colab-df-spinner');\n",
              "      try {\n",
              "        const charts = await google.colab.kernel.invokeFunction(\n",
              "            'suggestCharts', [key], {});\n",
              "      } catch (error) {\n",
              "        console.error('Error during call to suggestCharts:', error);\n",
              "      }\n",
              "      quickchartButtonEl.classList.remove('colab-df-spinner');\n",
              "      quickchartButtonEl.classList.add('colab-df-quickchart-complete');\n",
              "    }\n",
              "    (() => {\n",
              "      let quickchartButtonEl =\n",
              "        document.querySelector('#df-4048c3ff-4be8-4e2a-951b-e44838bfa925 button');\n",
              "      quickchartButtonEl.style.display =\n",
              "        google.colab.kernel.accessAllowed ? 'block' : 'none';\n",
              "    })();\n",
              "  </script>\n",
              "</div>\n",
              "\n",
              "    </div>\n",
              "  </div>\n"
            ],
            "text/plain": [
              "        row_id  black  asian  white  amind  hipac  hispanic  non_hispanic  \\\n",
              "143877  143877    0.0    0.0    1.0    0.0    0.0       1.0           0.0   \n",
              "71804    71804    0.0    0.0    1.0    0.0    0.0       0.0           1.0   \n",
              "66704    66704    0.0    0.0    1.0    0.0    0.0       0.0           1.0   \n",
              "144991  144991    0.0    0.0    1.0    0.0    0.0       0.0           1.0   \n",
              "83113    83113    0.0    0.0    1.0    0.0    0.0       1.0           0.0   \n",
              "\n",
              "        male  female  ...  income_std  debt_to_income_ratio_std  high_priced  \\\n",
              "143877   1.0     0.0  ...   -0.035110                  1.037419            1   \n",
              "71804    NaN     NaN  ...   -0.018133                  0.214735            1   \n",
              "66704    NaN     NaN  ...   -0.012935                  0.854601            1   \n",
              "144991   0.0     1.0  ...   -0.052781                 -1.156406            1   \n",
              "83113    1.0     0.0  ...    0.017208                 -0.059493            1   \n",
              "\n",
              "        loan_to_value_loan_amount  debt_to_income_ratio_squared  \\\n",
              "143877                  -0.302707                      1.076239   \n",
              "71804                    0.070313                      0.046111   \n",
              "66704                    0.216750                      0.730342   \n",
              "144991                   0.681646                      1.337275   \n",
              "83113                   -0.210766                      0.003539   \n",
              "\n",
              "        intro_rate_ltv  property_value_income  property_value_debt_to_income  \\\n",
              "143877        0.073006              -0.029901                       0.883500   \n",
              "71804         0.792620              -0.003701                       0.043828   \n",
              "66704         4.312789              -0.005033                       0.332534   \n",
              "144991        0.383714              -0.020538                      -0.449970   \n",
              "83113         0.059646               0.012002                      -0.041494   \n",
              "\n",
              "            phat         r  \n",
              "143877  0.000800  7.130464  \n",
              "71804   0.001027  6.881352  \n",
              "66704   0.001449  6.536802  \n",
              "144991  0.001539  6.476662  \n",
              "83113   0.001683  6.387073  \n",
              "\n",
              "[5 rows x 30 columns]"
            ]
          },
          "execution_count": 61,
          "metadata": {},
          "output_type": "execute_result"
        }
      ],
      "source": [
        "rem_ebm_phat.sort_values(by='r', ascending=False).head()"
      ]
    },
    {
      "cell_type": "markdown",
      "id": "9628f342",
      "metadata": {
        "id": "9628f342"
      },
      "source": [
        "#### Remove worst outliers"
      ]
    },
    {
      "cell_type": "code",
      "execution_count": null,
      "id": "fca198d8",
      "metadata": {
        "colab": {
          "background_save": true
        },
        "id": "fca198d8",
        "outputId": "9ae3566f-a2d0-4599-eab0-79b4b16072db"
      },
      "outputs": [
        {
          "name": "stdout",
          "output_type": "stream",
          "text": [
            "Removed 90 outliers.\n"
          ]
        }
      ],
      "source": [
        "# Use a slightly lower n_remove to retain more data\n",
        "n_remove = 90  # Reduced from 100\n",
        "\n",
        "# Remove top n_remove outliers\n",
        "rem_data = data.copy(deep=True)\n",
        "outliers = list(rem_ebm_phat.sort_values(by='r', ascending=False).head(n=n_remove).index)\n",
        "rem_data.drop(outliers, axis=0, inplace=True)\n",
        "\n",
        "print(f'Removed {n_remove} outliers.')"
      ]
    },
    {
      "cell_type": "markdown",
      "id": "9d8e9079",
      "metadata": {
        "id": "9d8e9079"
      },
      "source": [
        "## Remediation: Down-sample to Increase Signal from High-priced Loans"
      ]
    },
    {
      "cell_type": "code",
      "execution_count": null,
      "id": "ec5f3a62",
      "metadata": {
        "colab": {
          "background_save": true
        },
        "id": "ec5f3a62",
        "outputId": "542bee92-83f9-4b12-b8f1-3321732bb5e7"
      },
      "outputs": [
        {
          "name": "stdout",
          "output_type": "stream",
          "text": [
            "Down-sampled with inverse_proportion_remove=3.\n"
          ]
        }
      ],
      "source": [
        "# Adjust inverse_proportion_remove to retain more data\n",
        "inverse_proportion_remove = 3  # Less aggressive than 4\n",
        "\n",
        "# Down-sample high_priced=0 rows\n",
        "temp_data = rem_data.copy(deep=True)\n",
        "indices_to_remove = list(temp_data[temp_data[y_name] == 0].index)[::inverse_proportion_remove]\n",
        "temp_data.drop(indices_to_remove, axis=0, inplace=True)\n",
        "\n",
        "rem_data_final = temp_data.copy(deep=True)\n",
        "print(f'Down-sampled with inverse_proportion_remove={inverse_proportion_remove}.')"
      ]
    },
    {
      "cell_type": "markdown",
      "id": "bf4de784",
      "metadata": {
        "id": "bf4de784"
      },
      "source": [
        "#### Retrain remediated EBM"
      ]
    },
    {
      "cell_type": "code",
      "execution_count": null,
      "id": "bc5ffaac",
      "metadata": {
        "colab": {
          "background_save": true
        },
        "id": "bc5ffaac",
        "outputId": "6d6f287e-0d6e-452c-aef4-bc56b89d0cca"
      },
      "outputs": [
        {
          "name": "stdout",
          "output_type": "stream",
          "text": [
            "Remediated train data rows = 78450, columns = 28\n",
            "Remediated validation data rows = 33520, columns = 28\n",
            "Remediated EBM under-sampled AUC: 0.8300.\n"
          ]
        }
      ],
      "source": [
        "np.random.seed(SEED)\n",
        "\n",
        "# Use the best rem_data_final from down-sampling\n",
        "rem_data = rem_data_final\n",
        "\n",
        "# Execute final split\n",
        "split = np.random.rand(len(rem_data)) < split_ratio\n",
        "rem_train = rem_data[split].copy(deep=True)  # Create deep copy to avoid SettingWithCopyWarning\n",
        "rem_valid = rem_data[~split].copy(deep=True)  # Create deep copy to avoid SettingWithCopyWarning\n",
        "\n",
        "# Add interaction terms to rem_train and rem_valid\n",
        "rem_train['loan_to_value_loan_amount'] = rem_train['loan_to_value_ratio_std'] * rem_train['loan_amount_std']\n",
        "rem_valid['loan_to_value_loan_amount'] = rem_valid['loan_to_value_ratio_std'] * rem_valid['loan_amount_std']\n",
        "rem_train['debt_to_income_ratio_squared'] = rem_train['debt_to_income_ratio_std'] ** 2\n",
        "rem_valid['debt_to_income_ratio_squared'] = rem_valid['debt_to_income_ratio_std'] ** 2\n",
        "rem_train['intro_rate_ltv'] = rem_train['intro_rate_period_std'] * rem_train['loan_to_value_ratio_std']\n",
        "rem_valid['intro_rate_ltv'] = rem_valid['intro_rate_period_std'] * rem_valid['loan_to_value_ratio_std']\n",
        "rem_train['property_value_income'] = rem_train['property_value_std'] * rem_train['income_std']\n",
        "rem_valid['property_value_income'] = rem_valid['property_value_std'] * rem_valid['income_std']\n",
        "rem_train['property_value_debt_to_income'] = rem_train['property_value_std'] * rem_train['debt_to_income_ratio_std']\n",
        "rem_valid['property_value_debt_to_income'] = rem_valid['property_value_std'] * rem_valid['debt_to_income_ratio_std']\n",
        "\n",
        "# Summarize split\n",
        "print('Remediated train data rows = %d, columns = %d' % (rem_train.shape[0], rem_train.shape[1]))\n",
        "print('Remediated validation data rows = %d, columns = %d' % (rem_valid.shape[0], rem_valid.shape[1]))\n",
        "\n",
        "# Retrain final model\n",
        "rem_ebm2 = ExplainableBoostingClassifier(**rem_params)\n",
        "rem_ebm2.fit(rem_train[rem_x_names], rem_train[y_name])\n",
        "\n",
        "# Evaluate on remediated validation set\n",
        "rem_ebm_perf2 = ROC(rem_ebm2.predict_proba).explain_perf(rem_valid[rem_x_names], rem_valid[y_name])\n",
        "rem_auc2 = rem_ebm_perf2._internal_obj['overall']['auc']\n",
        "print('Remediated EBM under-sampled AUC: %.4f.' % rem_auc2)"
      ]
    },
    {
      "cell_type": "markdown",
      "id": "6acde37e",
      "metadata": {
        "id": "6acde37e"
      },
      "source": [
        "#### Test remediated EBM on true validation data"
      ]
    },
    {
      "cell_type": "code",
      "execution_count": null,
      "id": "218b96b1",
      "metadata": {
        "colab": {
          "background_save": true
        },
        "id": "218b96b1",
        "outputId": "889a3160-38bd-4239-b06b-4fa8cfdeca3f"
      },
      "outputs": [
        {
          "name": "stdout",
          "output_type": "stream",
          "text": [
            "Remediated EBM true AUC: 0.8309.\n"
          ]
        }
      ],
      "source": [
        "# Add interaction terms to the original validation set\n",
        "valid_copy = valid.copy(deep=True)\n",
        "valid_copy['loan_to_value_loan_amount'] = valid_copy['loan_to_value_ratio_std'] * valid_copy['loan_amount_std']\n",
        "valid_copy['debt_to_income_ratio_squared'] = valid_copy['debt_to_income_ratio_std'] ** 2\n",
        "valid_copy['intro_rate_ltv'] = valid_copy['intro_rate_period_std'] * valid_copy['loan_to_value_ratio_std']\n",
        "valid_copy['property_value_income'] = valid_copy['property_value_std'] * valid_copy['income_std']\n",
        "valid_copy['property_value_debt_to_income'] = valid_copy['property_value_std'] * valid_copy['debt_to_income_ratio_std']\n",
        "\n",
        "# Calculate predictions using the base model (for comparison)\n",
        "rem_ebm_phat2 = pd.DataFrame(rem_ebm.predict_proba(valid_copy[rem_x_names])[:, 1], columns=['phat'])\n",
        "rem_ebm_phat2 = pd.concat([valid_copy.reset_index(drop=True), rem_ebm_phat2], axis=1)\n",
        "\n",
        "# Evaluate the remediated model on the true validation set\n",
        "rem_ebm_perf3 = ROC(rem_ebm2.predict_proba).explain_perf(valid_copy[rem_x_names], valid_copy[y_name])\n",
        "rem_auc3 = rem_ebm_perf3._internal_obj['overall']['auc']\n",
        "print('Remediated EBM true AUC: %.4f.' % rem_auc3)"
      ]
    },
    {
      "cell_type": "markdown",
      "id": "a5e5fbf4",
      "metadata": {
        "id": "a5e5fbf4"
      },
      "source": [
        "Dropping outliers and under-sampling increases true AUC!"
      ]
    },
    {
      "cell_type": "markdown",
      "id": "73765e94",
      "metadata": {
        "id": "73765e94"
      },
      "source": [
        "#### End global timer"
      ]
    },
    {
      "cell_type": "code",
      "execution_count": null,
      "id": "e978d190",
      "metadata": {
        "colab": {
          "background_save": true
        },
        "id": "e978d190",
        "outputId": "d89da164-178e-4327-d4c3-ef4f00cbee1a"
      },
      "outputs": [
        {
          "name": "stdout",
          "output_type": "stream",
          "text": [
            "All tasks completed in 2100.84 s.\n"
          ]
        }
      ],
      "source": [
        "toc = time.time() - tic\n",
        "print('All tasks completed in %.2f s.' % (toc))"
      ]
    },
    {
      "cell_type": "code",
      "execution_count": null,
      "id": "JACUz87gXzxn",
      "metadata": {
        "colab": {
          "background_save": true
        },
        "id": "JACUz87gXzxn"
      },
      "outputs": [],
      "source": []
    }
  ],
  "metadata": {
    "colab": {
      "provenance": []
    },
    "kernelspec": {
      "display_name": "Python 3 (ipykernel)",
      "language": "python",
      "name": "python3"
    },
    "language_info": {
      "codemirror_mode": {
        "name": "ipython",
        "version": 3
      },
      "file_extension": ".py",
      "mimetype": "text/x-python",
      "name": "python",
      "nbconvert_exporter": "python",
      "pygments_lexer": "ipython3",
      "version": "3.10.6"
    }
  },
  "nbformat": 4,
  "nbformat_minor": 5
}